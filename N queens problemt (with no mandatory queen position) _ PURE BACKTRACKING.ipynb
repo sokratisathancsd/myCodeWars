{
  "nbformat": 4,
  "nbformat_minor": 0,
  "metadata": {
    "colab": {
      "name": "Untitled8.ipynb",
      "provenance": [],
      "collapsed_sections": []
    },
    "kernelspec": {
      "name": "python3",
      "display_name": "Python 3"
    },
    "language_info": {
      "name": "python"
    }
  },
  "cells": [
    {
      "cell_type": "code",
      "metadata": {
        "id": "pfGSt5FcDwhG"
      },
      "source": [
        "import numpy as np\n",
        "a=[]\n",
        "def nQueen(n):\n",
        "    Qboard = np.zeros([n,n])\n",
        "    if(placeQueens(Qboard, 0, n)):\n",
        "        print(a)\n",
        "        result = np.where(a == 1)\n",
        "        print(np.asarray(result[1]))\n",
        "        return np.asarray(result[1])\n",
        "    else:\n",
        "        return []\n",
        "    \n",
        "def placeQueens(Qboard, row, n):\n",
        "    #Ending condition!\n",
        "    if(row >= n):\n",
        "        global a \n",
        "        a= Qboard\n",
        "        return True\n",
        "    for col in range(n): #try to find a valid position between columns\n",
        "        \n",
        "        if(isSafe(Qboard, row, col,  n)):\n",
        "            Qboard[row, col]=1\n",
        "            #print(Qboard, row)\n",
        "            if(placeQueens(Qboard, row+1, n) == True):\n",
        "                return True \n",
        "            Qboard[row, col]=0\n",
        "    \n",
        "    return False\n",
        "                \n",
        "        \n",
        "        \n",
        "            \n",
        "\n",
        "def isSafe(Qboard, row, col, n):\n",
        "    safe=True\n",
        "    if(row==n):\n",
        "        return False\n",
        "    #check same column\n",
        "    column = Qboard[:,[col]]\n",
        "    if(1 in column):\n",
        "        safe = False\n",
        "    #check diagonals\n",
        "    Qboard[row, col] = 99\n",
        "    result = np.where((Qboard) == 99)\n",
        "    i,j=result[0][0], result[1][0]\n",
        "    if(1 in Qboard.diagonal(j-i)):\n",
        "        safe = False\n",
        "    \n",
        "    result = np.where(np.fliplr(Qboard) == 99)\n",
        "    i,j=result[0][0], result[1][0]\n",
        "    if(1 in np.fliplr(Qboard).diagonal(j-i)):\n",
        "        safe = False\n",
        "    Qboard[row, col] = 0\n",
        "    return safe"
      ],
      "execution_count": null,
      "outputs": []
    },
    {
      "cell_type": "markdown",
      "metadata": {
        "id": "nphBQ_tJDyCy"
      },
      "source": [
        ""
      ]
    }
  ]
}